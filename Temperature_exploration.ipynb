{
 "cells": [
  {
   "cell_type": "markdown",
   "metadata": {},
   "source": [
    "### 概览\n",
    "在这个项目中，我们将分析本地和全球的气温数据，并比较你居住地的气温走向与全球气温走向。\n",
    "\n",
    "### 说明\n",
    "你的任务是让数据可视化，描述全球气温走向和最接近你居住地的大城市气温走向之间的相似性与差异。所以需要按照以下步骤操作：\n",
    "\n",
    " - 从数据库中 **提取数据**。我们将在下一节介绍一个工作区，这个工作区与数据库连接。你需要导出世界气温数据以及最接近你居住地的大城市气温数据。city_list 表是城市和国家列表。想要与数据库交互，就需要编写一个 SQL 查询。\n",
    " 编写 SQL 查询，提取城市数据，导出到 CSV 文件。\n",
    " 编写一个 SQL 查询来提取全球数据，并导出到 CSV 文件。\n",
    "- **用任何你喜欢使用的工具打开 CSV**，建议使用 Excel 或 Google 表格，但也欢迎使用其他工具，如 Python 或 R。\n",
    "- **创建一个线条图**，将你所在城市的气温与全球气温比较。确保绘制 移动平均值 而不是年平均值，使线条平滑，使气温走向便于   观察（上一课的最后一个页面介绍了如何在电子表格中进行这类操作）。\n",
    "- **观察** 世界平均气温与你所在城市平均气温之间的相似性和差异，以及整体趋势。可以通过这些问题开始。\n",
    " - 与全球平均气温相比，你所在城市平均气温是比较热还是比较冷？长期气温差异是否一致？\n",
    " - “长期以来，你所在城市气温变化与全球平均气温变化相比如何？”\n",
    " - 整体趋势如何？世界越来越热还是越来越冷了？气温走向与过去几百年的走向是否一致？\n",
    "\n",
    "### 提交项目\n",
    "应提交 PDF 格式的文件，其中包括：\n",
    "\n",
    " - 准备在图表中可视化数据而采取的大致步骤，例如：\n",
    "   - 在每个步骤中，你都使用了哪些工具？（Python、SQL、Excel 等）\n",
    "   - 请在报告中附上你所有用到的SQL语句或Python代码。\n",
    "   - 你是如何计算移动平均数的？\n",
    "   - 在决定如何可视化气温走向时，你的主要考虑因素是什么？\n",
    " - 表示本地和全球气温走向的折线图\n",
    " - 关于气温走向的相似性和/或差异方面，至少需要提供 四个问题和观察结论"
   ]
  },
  {
   "cell_type": "markdown",
   "metadata": {},
   "source": [
    "### 在下面编写一个 SQL 查询\n",
    "使用下面的 SQL Workspace 从气温数据库中提取数据，然后将结果下载为 CSV 文件。在电子表格程序中打开，对其进行分析。\n",
    "\n",
    "### 数据库模式\n",
    "数据库中有三个表：\n",
    "\n",
    "- city_list - 这个表包含数据库中的城市和国家列表。看看这个列表，找到离你所在城市最近的城市。\n",
    "- city_data - 这个表包含每个城市每年的平均气温 (ºC)。\n",
    "- global_data - 这个表包含每年的全球平均气温 (ºC)。\n",
    "\n",
    "导出最接近你居住地的大城市气温数据的SQL语句，保存为guangzhou.csv\n",
    ">SELECT *  \n",
    ">FROM city_data  \n",
    ">WHERE city = 'Guangzhou'  \n",
    "\n",
    "导出世界1840年到2013年气温数据的SQL语句，保存为global1840_2013.csv\n",
    "\n",
    ">SELECT *  \n",
    ">FROM global_data  \n",
    ">WHERE year >= 1840 and year <= 2013  "
   ]
  },
  {
   "cell_type": "code",
   "execution_count": 32,
   "metadata": {
    "collapsed": true
   },
   "outputs": [],
   "source": [
    "import pandas as pd\n",
    "import numpy as np "
   ]
  },
  {
   "cell_type": "code",
   "execution_count": 34,
   "metadata": {},
   "outputs": [
    {
     "name": "stdout",
     "output_type": "stream",
     "text": [
      "              year    avg_temp  7years average\n",
      "count   174.000000  174.000000      168.000000\n",
      "mean   1926.500000   21.611207       21.610417\n",
      "std      50.373604    0.485201        0.376576\n",
      "min    1840.000000   20.400000       20.827143\n",
      "25%    1883.250000   21.272500       21.317857\n",
      "50%    1926.500000   21.590000       21.601429\n",
      "75%    1969.750000   21.980000       21.922143\n",
      "max    2013.000000   22.930000       22.322857\n",
      "              year    avg_temp  7years average\n",
      "count   174.000000  174.000000      168.000000\n",
      "mean   1926.500000    8.524713        8.518087\n",
      "std      50.373604    0.469801        0.415108\n",
      "min    1840.000000    7.560000        7.925714\n",
      "25%    1883.250000    8.172500        8.181429\n",
      "50%    1926.500000    8.520000        8.538571\n",
      "75%    1969.750000    8.760000        8.706071\n",
      "max    2013.000000    9.730000        9.588571\n"
     ]
    }
   ],
   "source": [
    "city_df = pd.read_csv('G:\\\\UdacityClass\\\\DA-payed\\\\project1\\\\guangzhou.csv') \n",
    "global_df = pd.read_csv('G:\\\\UdacityClass\\\\DA-payed\\\\project1\\\\global1840_2013.csv') \n",
    "\n",
    "print(city_df.describe())\n",
    "print(global_df.describe())"
   ]
  },
  {
   "cell_type": "markdown",
   "metadata": {},
   "source": [
    "**问：** 你是如何计算移动平均数的？  \n",
    "**答：** 开始时，创建一个名为 7years average 的列，这是存储移动平均值字段的地方。然后再到第七年 (1846)，使用 AVERAGE() 函数来计算前七年的平均气温。最后将公式一直拖动到最后一行，完成移动平均数的计算。"
   ]
  },
  {
   "cell_type": "markdown",
   "metadata": {
    "collapsed": true
   },
   "source": [
    "### 全球气温\n",
    "![](https://raw.githubusercontent.com/FFFFFhb/DataAnalysis/master/global.png)"
   ]
  },
  {
   "cell_type": "markdown",
   "metadata": {},
   "source": [
    "### 广州市气温\n",
    "![](https://raw.githubusercontent.com/FFFFFhb/DataAnalysis/master/guangzhou.png)"
   ]
  },
  {
   "cell_type": "markdown",
   "metadata": {},
   "source": [
    "### 全球气温与广州气温（移动平均值）\n",
    "![](https://raw.githubusercontent.com/FFFFFhb/DataAnalysis/master/GlobalvsGuangzhou.png)"
   ]
  },
  {
   "cell_type": "markdown",
   "metadata": {
    "collapsed": true
   },
   "source": [
    "**问1:** 与全球平均气温相比，你所在城市平均气温是比较热还是比较冷？长期气温差异是否一致？  \n",
    "**答：**我所在的城市平均气温比全球平均气温高，因为广州地处赤道附近，受太阳直射时间长，气温较全球平均气温高。长期气温差异一致。"
   ]
  },
  {
   "cell_type": "markdown",
   "metadata": {},
   "source": [
    "**问2：** 长期以来，你所在城市气温变化与全球平均气温变化相比如何？  \n",
    "**答：**长期以来，广州气温变化与全球平均气温变化趋势大致相同，但广州气温波动较大，两年平均气温差距最高超过1度。 "
   ]
  },
  {
   "cell_type": "markdown",
   "metadata": {},
   "source": [
    "**问3：**整体趋势如何？世界越来越热还是越来越冷了？气温走向与过去几百年的走向是否一致？  \n",
    "**答：**气温整体呈上升趋势，世界越来越热。近一百年气温上升趋势比过去一百年明显。"
   ]
  },
  {
   "cell_type": "markdown",
   "metadata": {},
   "source": [
    "**问4：**气温变化的趋势说明了什么问题？  \n",
    "**答：**全球平均气温整体呈上升趋势，2013年全球平均气温9.61℃，较1840年全球平均气温7.8℃升高了1.81℃，说明全球气候变暖情况严重。\n",
    ">&nbsp;&nbsp;&nbsp;&nbsp;&nbsp;&nbsp;&nbsp;&nbsp;全球气候变暖是一种和自然有关的现象，是由于温室效应不断积累，导致地气系统吸收与发射的能量不平衡，能量不断在地气系统累积，从而导致温度上升，造成全球气候变暖。  \n",
    "  \n",
    ">&nbsp;&nbsp;&nbsp;&nbsp;&nbsp;&nbsp;&nbsp;&nbsp;由于人们焚烧化石燃料，如石油，煤炭等，或砍伐森林并将其焚烧时会产生大量的二氧化碳，即温室气体，这些温室气体对来自太阳辐射的可见光具有高度透过性，而对地球发射出来的长波辐射具有高度吸收性，能强烈吸收地面辐射中的红外线，导致地球温度上升，即温室效应。全球变暖会使全球降水量重新分配、冰川和冻土消融、海平面上升等，不仅危害自然生态系统的平衡，还威胁人类的生存。  \n",
    "  \n",
    ">&nbsp;&nbsp;&nbsp;&nbsp;&nbsp;&nbsp;&nbsp;&nbsp;另一方面，由于陆地温室气体排放造成大陆气温升高，与海洋温差变小，近而造成了空气流动减慢，雾霾无法短时间被吹散，造成很多城市雾霾天气增多，影响人类健康。汽车限行，暂停生产等措施只有短期和局部效果，并不能从根本上改变气候变暖和雾霾污染。"
   ]
  }
 ],
 "metadata": {
  "kernelspec": {
   "display_name": "Python 3",
   "language": "python",
   "name": "python3"
  },
  "language_info": {
   "codemirror_mode": {
    "name": "ipython",
    "version": 3
   },
   "file_extension": ".py",
   "mimetype": "text/x-python",
   "name": "python",
   "nbconvert_exporter": "python",
   "pygments_lexer": "ipython3",
   "version": "3.6.2"
  }
 },
 "nbformat": 4,
 "nbformat_minor": 2
}
